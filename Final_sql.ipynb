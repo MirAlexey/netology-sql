{
 "cells": [
  {
   "cell_type": "markdown",
   "metadata": {},
   "source": [
    "#  Финальная работа по курсу SQL\n",
    "\n",
    "В качестве образца принята схема базы данных предназначенная для системы тестирования.\n"
   ]
  },
  {
   "cell_type": "code",
   "execution_count": null,
   "metadata": {},
   "outputs": [],
   "source": [
    "Для работы используется Docker контейнер с установленной БД postgres \n",
    "(Один из тех, что использовался в процессе обучения и выполнения ДЗ)"
   ]
  },
  {
   "cell_type": "code",
   "execution_count": 1,
   "metadata": {},
   "outputs": [
    {
     "name": "stderr",
     "output_type": "stream",
     "text": [
      "/home/user/.local/lib/python3.6/site-packages/psycopg2/__init__.py:144: UserWarning: The psycopg2 wheel package will be renamed from release 2.8; in order to keep installing from binary please use \"pip install psycopg2-binary\" instead. For details see: <http://initd.org/psycopg/docs/install.html#binary-install-from-pypi>.\n",
      "  \"\"\")\n"
     ]
    }
   ],
   "source": [
    "import os\n",
    "import logging\n",
    "import psycopg2\n",
    "import psycopg2.extensions\n",
    "from pymongo import MongoClient\n",
    "import pandas as pd\n",
    "from sqlalchemy import create_engine\n",
    "from sqlalchemy import Table, Column, Integer, Float, MetaData, String\n",
    "from sqlalchemy.orm import sessionmaker\n",
    "from sqlalchemy.ext.declarative import declarative_base"
   ]
  },
  {
   "cell_type": "code",
   "execution_count": 2,
   "metadata": {},
   "outputs": [],
   "source": [
    "logging.basicConfig(format='%(asctime)s : %(levelname)s : %(message)s', level=logging.INFO)\n",
    "logger = logging.getLogger(__name__)\n"
   ]
  },
  {
   "cell_type": "code",
   "execution_count": 35,
   "metadata": {},
   "outputs": [
    {
     "name": "stderr",
     "output_type": "stream",
     "text": [
      "2018-08-26 18:02:47,224 : INFO : Создаём подключёние к Postgres\n"
     ]
    }
   ],
   "source": [
    "logger.info(\"Создаём подключёние к Postgres\")\n",
    "params = {\n",
    "    \"host\": '127.0.0.1',\n",
    "    \"port\": '5433',\n",
    "    \"user\": 'postgres'\n",
    "}"
   ]
  },
  {
   "cell_type": "code",
   "execution_count": 36,
   "metadata": {},
   "outputs": [],
   "source": [
    "conn = psycopg2.connect(**params)\n"
   ]
  },
  {
   "cell_type": "code",
   "execution_count": 37,
   "metadata": {},
   "outputs": [],
   "source": [
    "psycopg2.extensions.register_type(\n",
    "    psycopg2.extensions.UNICODE,\n",
    "    conn\n",
    ")\n",
    "conn.set_isolation_level(\n",
    "    psycopg2.extensions.ISOLATION_LEVEL_AUTOCOMMIT\n",
    ")\n",
    "cursor = conn.cursor()"
   ]
  },
  {
   "cell_type": "code",
   "execution_count": 38,
   "metadata": {},
   "outputs": [],
   "source": [
    "## Создание таблиц\n",
    "sql1 = \"CREATE TABLE IF NOT EXISTS person (\\\n",
    "    id  INTEGER PRIMARY KEY, \\\n",
    "    first_name VARCHAR(45),\\\n",
    "    last_name VARCHAR(45),\\\n",
    "    second_name VARCHAR(255),\\\n",
    "    e_mail VARCHAR(255) NOT NULL,\\\n",
    "    login VARCHAR(45) NOT NULL ,\\\n",
    "    password VARCHAR(45) NOT NULL);\"\n",
    "\n",
    "sql2 = \"CREATE TABLE IF NOT EXISTS event_type (\\\n",
    "    id  INTEGER PRIMARY KEY, \\\n",
    "    type VARCHAR(45),\\\n",
    "    description TEXT );\\\n",
    "CREATE TABLE IF NOT EXISTS event (\\\n",
    "    id  INTEGER PRIMARY KEY, \\\n",
    "    description TEXT,\\\n",
    "    start_date timestamp,\\\n",
    "    finish_date timestamp,\\\n",
    "    id_creater integer REFERENCES person(id),\\\n",
    "    id_type_event integer REFERENCES event_type(id));\\\n",
    "\" \n",
    "sql3= \"\"\"CREATE TABLE IF NOT EXISTS type_stratum (\n",
    "    id  INTEGER PRIMARY KEY, \n",
    "    type VARCHAR(45),\n",
    "    description TEXT );\n",
    "\"\"\"\n",
    "\n",
    "sql4= \"\"\"CREATE TABLE IF NOT EXISTS stratum (\n",
    "    id  INTEGER PRIMARY KEY, \n",
    "    name VARCHAR(45) NOT NULL,\n",
    "    description TEXT,\n",
    "    id_creater integer REFERENCES person(id),\n",
    "    ParentId integer REFERENCES stratum(id),\n",
    "    id_type_stratum integer REFERENCES type_stratum(id));\n",
    "\n",
    "\"\"\"\n",
    "sql5= \"\"\"CREATE TABLE IF NOT EXISTS test (\n",
    "    id  INTEGER PRIMARY KEY, \n",
    "    short_name  VARCHAR(45) NOT NULL,\n",
    "    description TEXT,\n",
    "    pass_level_norm integer NOT NULL,\n",
    "    pass_level_good integer NOT NULL, \n",
    "    pass_level_perf integer NOT NULL,\n",
    "    id_creater integer REFERENCES person(id),\n",
    "    ParentId integer REFERENCES test (id));\n",
    "\"\"\"\n",
    "sql6= \"\"\"CREATE TABLE IF NOT EXISTS type_question(\n",
    "    id  INTEGER PRIMARY KEY, \n",
    "    type VARCHAR(45),\n",
    "    description TEXT );\n",
    "\n",
    "CREATE TABLE IF NOT EXISTS question (\n",
    "    id  INTEGER PRIMARY KEY, \n",
    "    text TEXT NOT NULL,\n",
    "    id_creater integer REFERENCES person(id),\n",
    "    id_type_question  integer REFERENCES type_question(id));\n",
    "\"\"\"\n",
    "sql7= \"\"\"CREATE TABLE IF NOT EXISTS answer (\n",
    "id  INTEGER PRIMARY KEY, \n",
    "    text TEXT NOT NULL,\n",
    "    explanation TEXT,\n",
    "    correct integer,\n",
    "    id_creater integer REFERENCES person(id),\n",
    "    id_question  integer REFERENCES question(id));\n",
    "\"\"\"\n",
    "sql8 = \"\"\"CREATE TABLE IF NOT EXISTS resault_person (\n",
    "    value  VARCHAR(45),\n",
    "    data  timestamp,\n",
    "    id_event integer REFERENCES event(id),\n",
    "    id_answer  integer REFERENCES answer(id),\n",
    "    id_person integer REFERENCES person(id));\n",
    "\"\"\"\n",
    "\n",
    "sql9 = \"\"\"CREATE TABLE IF NOT EXISTS event_test (\n",
    "    id_event  integer REFERENCES event(id),\n",
    "    id_test integer REFERENCES test(id));\n",
    "\n",
    " CREATE TABLE IF NOT EXISTS event_person (\n",
    "    id_event  integer REFERENCES event(id),\n",
    "    id_person integer REFERENCES person(id),\n",
    "    connect_time timestamp);\n",
    "\n",
    "CREATE TABLE IF NOT EXISTS event_stratum (\n",
    "    id_event  integer REFERENCES event(id),\n",
    "    id_stratum integer REFERENCES stratum(id),\n",
    "    connect_time timestamp);\n",
    "\n",
    "CREATE TABLE IF NOT EXISTS test_question (\n",
    "   id_test integer REFERENCES test(id),\n",
    "   id_question  integer REFERENCES question(id));\n",
    "\n",
    "CREATE TABLE IF NOT EXISTS  type_participant(\n",
    "    id  INTEGER PRIMARY KEY, \n",
    "    type VARCHAR(45),\n",
    "    description TEXT );\n",
    "\n",
    "CREATE TABLE IF NOT EXISTS person_stratum (\n",
    "   id_stratum integer REFERENCES stratum (id),\n",
    "   id_person  integer REFERENCES person(id),\n",
    "   id_type_participant  integer REFERENCES type_participant(id));\n",
    "\n",
    "\"\"\"\n",
    "cursor.execute(sql1)\n",
    "conn.commit()\n",
    "cursor.execute(sql2)\n",
    "conn.commit()\n",
    "cursor.execute(sql3)\n",
    "conn.commit()\n",
    "cursor.execute(sql4)\n",
    "conn.commit()\n",
    "cursor.execute(sql5)\n",
    "conn.commit()\n",
    "cursor.execute(sql6)\n",
    "conn.commit()\n",
    "cursor.execute(sql7)\n",
    "conn.commit()\n",
    "cursor.execute(sql8)\n",
    "conn.commit()\n",
    "cursor.execute(sql9)\n",
    "conn.commit()"
   ]
  },
  {
   "cell_type": "code",
   "execution_count": null,
   "metadata": {},
   "outputs": [],
   "source": [
    "## Загрузка данных\n",
    "sql10 = \"\"\"INSERT INTO person ( id, first_name, last_name, second_name, e_mail, login , password)  VALUES (1, 'Александра', 'Александрова','Александровна', 'Sasha@email.ru', 'Sasha', '123456' );\n",
    "INSERT INTO person ( id, first_name, last_name, second_name, e_mail, login , password)  VALUES (2, 'Василиса', 'Васильева','Васильевна', 'Vasilisa@email.ru', 'Vasilisa', '234567' );\n",
    "INSERT INTO person ( id, first_name, last_name, second_name, e_mail, login , password)  VALUES (3, 'Ольга', 'Олегова','Олеговна', 'Olia@email.ru', 'Olia', '345678' );\n",
    "INSERT INTO person ( id, first_name, last_name, second_name, e_mail, login , password)  VALUES (4, 'Дарья', 'Дариевна','Дарьева', 'Dasha@email.ru', 'Dasha', '456789' );\n",
    "INSERT INTO person ( id, first_name, last_name, second_name, e_mail, login , password)  VALUES (5, 'Юлия', 'Юльева','Юлиевна', 'Yulia@email.ru', 'Yulia', '567891' );\n",
    "INSERT INTO person ( id, first_name, last_name, second_name, e_mail, login , password)  VALUES (6, 'Василий', 'Пупкин','Александровна', 'Vasia@email.ru', 'Vasia', '678912' );\n",
    "INSERT INTO person ( id, first_name, last_name, second_name, e_mail, login , password)  VALUES (7, 'Федор', 'Сумкин','Федорович', 'Fiedor@email.ru', 'Fiedor', '789123' );\n",
    "INSERT INTO person ( id, first_name, last_name, second_name, e_mail, login , password)  VALUES (8, 'Иван', 'Королев','Васильевич', 'Ivan_K@email.ru', 'Ivan_K', '891234' );\n",
    "INSERT INTO person ( id, first_name, last_name, second_name, e_mail, login , password)  VALUES (9, 'Иван', 'Царев','Иванович', 'Ivan_C@email.ru', 'Ivan_C', '912345' );\n",
    "INSERT INTO person ( id, first_name, last_name, second_name, e_mail, login , password)  VALUES (10, 'Джон', 'Доу','Джонович', 'John@email.ru', 'John', 'admin' );\n",
    "\n",
    "INSERT INTO type_stratum (  id, type, description)  VALUES (1, 'Группа ВУЗ', 'Группа для общего прохождения теста от ВУЗа');\n",
    "\n",
    "INSERT INTO stratum (  id, name, description, id_creater, ParentId, id_type_stratum)  VALUES (1, 'группа НЯ-1', 'Группа 1 курса факультета \"Необычяйные явления\"', 10, NULL, 1);\n",
    "INSERT INTO stratum (  id, name, description, id_creater, ParentId, id_type_stratum)  VALUES (2, 'группа НЛО-1', 'Группа 1 курса факультета \"Неопознаных летающих объектов\"', 10, NULL, 1);\n",
    "\n",
    "INSERT INTO type_participant (  id, type, description)  VALUES (1, 'Здающий', 'Персона проходящая тест');\n",
    "INSERT INTO type_participant (  id, type, description)  VALUES (2, 'Принимающий', 'Персона получающая право на просмотр и редактирование группы и получающая результаты прохождения тестов');\n",
    "\n",
    "INSERT INTO person_stratum (  id_stratum, id_person, id_type_participant )  VALUES (1 , 1, 1);\n",
    "INSERT INTO person_stratum (  id_stratum, id_person, id_type_participant )  VALUES (2 , 2, 1);\n",
    "INSERT INTO person_stratum (  id_stratum, id_person, id_type_participant )  VALUES (1 , 3, 1);\n",
    "INSERT INTO person_stratum (  id_stratum, id_person, id_type_participant )  VALUES (2 , 4, 1);\n",
    "INSERT INTO person_stratum (  id_stratum, id_person, id_type_participant )  VALUES (1 , 5, 1);\n",
    "INSERT INTO person_stratum (  id_stratum, id_person, id_type_participant )  VALUES (2 , 6, 1);\n",
    "INSERT INTO person_stratum (  id_stratum, id_person, id_type_participant )  VALUES (1 , 7, 1);\n",
    "INSERT INTO person_stratum (  id_stratum, id_person, id_type_participant )  VALUES (2 , 8, 1);\n",
    "INSERT INTO person_stratum (  id_stratum, id_person, id_type_participant )  VALUES (1 , 9, 1);\n",
    "INSERT INTO person_stratum (  id_stratum, id_person, id_type_participant )  VALUES (1 , 10, 2);\n",
    "INSERT INTO person_stratum (  id_stratum, id_person, id_type_participant )  VALUES (2 , 10, 2);\n",
    "\n",
    "INSERT INTO test (  id, short_name, description, pass_level_norm, pass_level_good, pass_level_perf, id_creater, ParentId)  \n",
    "                 VALUES (1, 'Математика', 'Основы математики', 50, 70, 90, 10, NULL);\n",
    "INSERT INTO test (  id, short_name, description, pass_level_norm, pass_level_good, pass_level_perf, id_creater, ParentId)  \n",
    "                 VALUES (2, 'Арифметика', 'Основы арифметики', 50, 70, 90, 10, 1);\n",
    "INSERT INTO test (  id, short_name, description, pass_level_norm, pass_level_good, pass_level_perf, id_creater, ParentId)  \n",
    "                 VALUES (3, 'Алгебра', 'Основы алгебры', 50, 70, 90, 10, 1);\n",
    "\n",
    "INSERT INTO type_question (  id, type, description)  VALUES (1, 'Вопрос с еденичным выбором', 'Для правильного ответа нужно выбрать единственный верный вариант ответа');\n",
    "INSERT INTO type_question (  id, type, description)  VALUES (2, 'Вопрос с множественным выбором', 'Для правильного ответа нужно выбрать все верные и ни одного неверного варианта ответа');\n",
    "INSERT INTO type_question (  id, type, description)  VALUES (3, 'Вопрос с ответом', 'Для правильного ответа нужно вписать в поле для ответа верный вариант ответа');\n",
    "\n",
    "INSERT INTO question (  id, text, id_creater, id_type_question)  VALUES (1, 'Чему равно 2+2', 10, 1);\n",
    "INSERT INTO question (  id, text, id_creater, id_type_question)  VALUES (2, 'Выражение для x при  y=2/x будет равно? ', 10, 1);\n",
    "INSERT INTO question (  id, text, id_creater, id_type_question)  VALUES (3, 'Чему равно 15/3', 10, 3);\n",
    "INSERT INTO question (  id, text, id_creater, id_type_question)  VALUES (4, 'Выберете верно сказанное про простые числа ', 10, 2);\n",
    "INSERT INTO question (  id, text, id_creater, id_type_question)  VALUES (5, 'Есть ли жизнь на Марсе', 10, 1);\n",
    "\n",
    "INSERT INTO test_question (id_test, id_question) VALUES (1,5);\n",
    "INSERT INTO test_question (id_test, id_question) VALUES (2,1);\n",
    "INSERT INTO test_question (id_test, id_question) VALUES (2,3);\n",
    "INSERT INTO test_question (id_test, id_question) VALUES (3,2);\n",
    "INSERT INTO test_question (id_test, id_question) VALUES (3,4);\n",
    "\n",
    "INSERT INTO answer  (id, text, explanation, correct, id_creater, id_question)  VALUES (1, '4', 'Доказательство этого вне пределах знаний автора',100, 10, 1);\n",
    "INSERT INTO answer  (id, text, explanation, correct, id_creater, id_question)  VALUES (2, '5', 'Доказательство этого вне пределах знаний автора',0, 10, 1);\n",
    "INSERT INTO answer  (id, text, explanation, correct, id_creater, id_question)  VALUES (3, 'x=2*y', 'Доказательство этого вне пределах знаний автора',0, 10, 2);\n",
    "INSERT INTO answer  (id, text, explanation, correct, id_creater, id_question)  VALUES (4, 'x=2/y', 'Доказательство этого вне пределах знаний автора',100, 10, 2);\n",
    "INSERT INTO answer  (id, text, explanation, correct, id_creater, id_question)  VALUES (5, '5', 'Доказательство этого вне пределах знаний автора',100, 10, 3);\n",
    "INSERT INTO answer  (id, text, explanation, correct, id_creater, id_question)  VALUES (6, 'Они не существуют', 'Доказательство этого вне пределах знаний автора',-1, 10, 4);\n",
    "INSERT INTO answer  (id, text, explanation, correct, id_creater, id_question)  VALUES (7, 'Они всегда нечетные.', 'Доказательство этого вне пределах знаний автора',1, 10, 4);\n",
    "INSERT INTO answer  (id, text, explanation, correct, id_creater, id_question)  VALUES (8, 'Деляться только на себя и на 1.', 'Доказательство этого вне пределах знаний автора',1, 10, 4);\n",
    "INSERT INTO answer  (id, text, explanation, correct, id_creater, id_question)  VALUES (9, 'Есть! Я верю!', 'Доказательство этого вне пределах знаний автора',100, 10, 5);\n",
    "INSERT INTO answer  (id, text, explanation, correct, id_creater, id_question)  VALUES (10, 'Неизвестно. Ведуться исследования.', 'Доказательство этого вне пределах знаний автора',0, 10, 5);\n",
    "    \n",
    "INSERT INTO event_type (  id, type, description)  VALUES (1, 'Незначительное', 'Рядовое событие проходящее переодически');\n",
    "INSERT INTO event_type (  id, type, description)  VALUES (2, 'Важное', 'Важное событие проходящее достаточно редко и требующее повышенного внимания');\n",
    "\n",
    "INSERT INTO event (id, description, start_date, finish_date, id_creater, id_type_event)  VALUES (1, 'Контрольная по математике','2018-08-27 12:00:00' ,'2018-08-27 13:00:00', 10, 1);\n",
    "\n",
    "INSERT INTO event_test(id_event, id_test) VALUES (1,1);    \n",
    "\n",
    "INSERT INTO event_stratum(id_event, id_stratum, connect_time) VALUES (1,1,'2018-08-27 11:30:00');\n",
    "INSERT INTO event_stratum(id_event, id_stratum, connect_time) VALUES (1,2,'2018-08-27 11:31:00');\n",
    "\n",
    "INSERT INTO resault_person( value, data, id_event, id_answer, id_person ) VALUES (NULL, '2018-08-28 12:35:00', 1, 1, 1 );\n",
    "INSERT INTO resault_person( value, data, id_event, id_answer, id_person ) VALUES (NULL, '2018-08-28 12:35:00', 1, 1, 2 );\n",
    "INSERT INTO resault_person( value, data, id_event, id_answer, id_person ) VALUES (NULL, '2018-08-28 12:35:00', 1, 1, 3 );\n",
    "INSERT INTO resault_person( value, data, id_event, id_answer, id_person ) VALUES (NULL, '2018-08-28 12:35:00', 1, 1, 4 );\n",
    "INSERT INTO resault_person( value, data, id_event, id_answer, id_person ) VALUES (NULL, '2018-08-28 12:35:00', 1, 1, 5 );\n",
    "INSERT INTO resault_person( value, data, id_event, id_answer, id_person ) VALUES (NULL, '2018-08-28 12:35:00', 1, 2, 6 );\n",
    "INSERT INTO resault_person( value, data, id_event, id_answer, id_person ) VALUES (NULL, '2018-08-28 12:35:00', 1, 1, 7 );\n",
    "INSERT INTO resault_person( value, data, id_event, id_answer, id_person ) VALUES (NULL, '2018-08-28 12:35:00', 1, 1, 8 );\n",
    "INSERT INTO resault_person( value, data, id_event, id_answer, id_person ) VALUES (NULL, '2018-08-28 12:35:00', 1, 1, 9 );\n",
    "INSERT INTO resault_person( value, data, id_event, id_answer, id_person ) VALUES (NULL, '2018-08-28 12:35:00', 1, 3, 1 );\n",
    "INSERT INTO resault_person( value, data, id_event, id_answer, id_person ) VALUES (NULL, '2018-08-28 12:35:00', 1, 3, 2 );\n",
    "INSERT INTO resault_person( value, data, id_event, id_answer, id_person ) VALUES (NULL, '2018-08-28 12:35:00', 1, 3, 3 );\n",
    "INSERT INTO resault_person( value, data, id_event, id_answer, id_person ) VALUES (NULL, '2018-08-28 12:35:00', 1, 4, 4 );\n",
    "INSERT INTO resault_person( value, data, id_event, id_answer, id_person ) VALUES (NULL, '2018-08-28 12:35:00', 1, 3, 5 );\n",
    "INSERT INTO resault_person( value, data, id_event, id_answer, id_person ) VALUES (NULL, '2018-08-28 12:35:00', 1, 3, 6 );\n",
    "INSERT INTO resault_person( value, data, id_event, id_answer, id_person ) VALUES (NULL, '2018-08-28 12:35:00', 1, 4, 7 );\n",
    "INSERT INTO resault_person( value, data, id_event, id_answer, id_person ) VALUES (NULL, '2018-08-28 12:35:00', 1, 4, 8 );\n",
    "INSERT INTO resault_person( value, data, id_event, id_answer, id_person ) VALUES (NULL, '2018-08-28 12:35:00', 1, 4, 9 );\n",
    "INSERT INTO resault_person( value, data, id_event, id_answer, id_person ) VALUES ('5', '2018-08-28 12:35:00', 1, 5, 1 );\n",
    "INSERT INTO resault_person( value, data, id_event, id_answer, id_person ) VALUES ('5', '2018-08-28 12:35:00', 1, 5, 2 );\n",
    "INSERT INTO resault_person( value, data, id_event, id_answer, id_person ) VALUES ('5', '2018-08-28 12:35:00', 1, 5, 3 );\n",
    "INSERT INTO resault_person( value, data, id_event, id_answer, id_person ) VALUES ('5', '2018-08-28 12:35:00', 1, 5, 4 );\n",
    "INSERT INTO resault_person( value, data, id_event, id_answer, id_person ) VALUES ('5', '2018-08-28 12:35:00', 1, 5, 5 );\n",
    "INSERT INTO resault_person( value, data, id_event, id_answer, id_person ) VALUES ('5', '2018-08-28 12:35:00', 1, 5, 6 );\n",
    "INSERT INTO resault_person( value, data, id_event, id_answer, id_person ) VALUES ('5', '2018-08-28 12:35:00', 1, 5, 7 );\n",
    "INSERT INTO resault_person( value, data, id_event, id_answer, id_person ) VALUES ('5', '2018-08-28 12:35:00', 1, 5, 8 );\n",
    "INSERT INTO resault_person( value, data, id_event, id_answer, id_person ) VALUES ('4', '2018-08-28 12:35:00', 1, 5, 9 );\n",
    "INSERT INTO resault_person( value, data, id_event, id_answer, id_person ) VALUES (NULL, '2018-08-28 12:35:00', 1, 6, 8 );\n",
    "INSERT INTO resault_person( value, data, id_event, id_answer, id_person ) VALUES (NULL, '2018-08-28 12:35:00', 1, 7, 1 );\n",
    "INSERT INTO resault_person( value, data, id_event, id_answer, id_person ) VALUES (NULL, '2018-08-28 12:35:00', 1, 7, 2 );\n",
    "INSERT INTO resault_person( value, data, id_event, id_answer, id_person ) VALUES (NULL, '2018-08-28 12:35:00', 1, 7, 4 );\n",
    "INSERT INTO resault_person( value, data, id_event, id_answer, id_person ) VALUES (NULL, '2018-08-28 12:35:00', 1, 7, 6 );\n",
    "INSERT INTO resault_person( value, data, id_event, id_answer, id_person ) VALUES (NULL, '2018-08-28 12:35:00', 1, 7, 7 );\n",
    "INSERT INTO resault_person( value, data, id_event, id_answer, id_person ) VALUES (NULL, '2018-08-28 12:35:00', 1, 7, 9 );\n",
    "INSERT INTO resault_person( value, data, id_event, id_answer, id_person ) VALUES (NULL, '2018-08-28 12:35:00', 1, 8, 1 );\n",
    "INSERT INTO resault_person( value, data, id_event, id_answer, id_person ) VALUES (NULL, '2018-08-28 12:35:00', 1, 8, 2 );\n",
    "INSERT INTO resault_person( value, data, id_event, id_answer, id_person ) VALUES (NULL, '2018-08-28 12:35:00', 1, 8, 3 );\n",
    "INSERT INTO resault_person( value, data, id_event, id_answer, id_person ) VALUES (NULL, '2018-08-28 12:35:00', 1, 8, 4 );\n",
    "INSERT INTO resault_person( value, data, id_event, id_answer, id_person ) VALUES (NULL, '2018-08-28 12:35:00', 1, 8, 5 );\n",
    "INSERT INTO resault_person( value, data, id_event, id_answer, id_person ) VALUES (NULL, '2018-08-28 12:35:00', 1, 8, 6 );\n",
    "INSERT INTO resault_person( value, data, id_event, id_answer, id_person ) VALUES (NULL, '2018-08-28 12:35:00', 1, 8, 7 );\n",
    "INSERT INTO resault_person( value, data, id_event, id_answer, id_person ) VALUES (NULL, '2018-08-28 12:35:00', 1, 8, 9 ); \n",
    "\"\"\"\n",
    "cursor.execute(sql10)\n",
    "conn.commit()"
   ]
  },
  {
   "cell_type": "code",
   "execution_count": 44,
   "metadata": {},
   "outputs": [
    {
     "name": "stderr",
     "output_type": "stream",
     "text": [
      "2018-08-26 23:11:14,039 : INFO : Данные из таблицы:\n",
      "[(1, 'Контрольная по математике', datetime.datetime(2018, 8, 27, 12, 0), datetime.datetime(2018, 8, 27, 13, 0), 'Джон', 2, 2, 0)]\n"
     ]
    }
   ],
   "source": [
    "## Запросы\n",
    "\n",
    "# 1.1 Получить список событий с параметрами\n",
    "sql_1_1 = \"\"\"SELECT \n",
    "     row_number() OVER () as №, \n",
    "     description, \n",
    "     start_date, \n",
    "     finish_date, \n",
    "     person.first_name,\n",
    "     count(event_test.id_event) as count_test, \n",
    "     count(event_stratum.id_event) as count_stratum,\n",
    "     count(event_person.id_event) as count_free_person   \n",
    "FROM event \n",
    "     LEFT JOIN event_test \n",
    "           ON event.id = event_test.id_event  \n",
    "     LEFT JOIN event_stratum \n",
    "          ON event.id = event_stratum.id_event  \n",
    "     LEFT JOIN event_person\n",
    "          ON event.id = event_person.id_event\n",
    "     JOIN person\n",
    "           ON event.id_creater = person.id \n",
    "GROUP BY event.id,   person.first_name;\"\"\"\n",
    "cursor.execute(sql_1_1)\n",
    "conn.commit()\n",
    "logger.info(\n",
    "    \"Данные из таблицы:\\n{}\".format(\n",
    "        [i for i in cursor.fetchall()])\n",
    ")"
   ]
  },
  {
   "cell_type": "code",
   "execution_count": 45,
   "metadata": {},
   "outputs": [
    {
     "name": "stderr",
     "output_type": "stream",
     "text": [
      "2018-08-26 23:11:20,909 : INFO : Данные из таблицы:\n",
      "[(1, 'Алгебра', 'Основы алгебры', '50%', '70%', '90%', 'Джон Доу', 0, 2), (2, 'Арифметика', 'Основы арифметики', '50%', '70%', '90%', 'Джон Доу', 0, 2), (3, 'Математика', 'Основы математики', '50%', '70%', '90%', 'Джон Доу', 2, 1)]\n"
     ]
    }
   ],
   "source": [
    "## 1.2 Получить список тестов с параметерами\n",
    "sql_1_2 = \"\"\" \n",
    "WITH  count_question_in_test as (\n",
    "         SELECT \n",
    "                test.id as id, \n",
    "               count(test_question.id_question) as count \n",
    "         FROM test \n",
    "                LEFT  JOIN test_question\n",
    "                     ON test.id = test_question.id_test\n",
    "        GROUP BY test.id\n",
    ")\n",
    "SELECT \n",
    "    row_number() OVER () as №, \n",
    "    t1.short_name,\n",
    "    t1.description,\n",
    "    t1.pass_level_norm  || '%' as pass_norm,\n",
    "    t1.pass_level_good || '%' as pass_good,\n",
    "    t1.pass_level_perf || '%' as pass_perf,\n",
    "    person.first_name || ' ' || person.last_name creator,\n",
    "    count(t2.id) as count_include_test,\n",
    "    (SELECT count FROM count_question_in_test WHERE count_question_in_test.id = t1.id ) as count_question_test\n",
    "    FROM test as t1 \n",
    "       LEFT JOIN test as t2\n",
    "            ON t1.id = t2.ParentId \n",
    "      LEFT JOIN count_question_in_test as c\n",
    "            ON t1.id = c.id\n",
    "      JOIN person\n",
    "           ON t1.id_creater = person.id \n",
    "GROUP BY t1.id,   person.first_name, person.last_name ;\"\"\"\n",
    "cursor.execute(sql_1_2)\n",
    "conn.commit()\n",
    "logger.info(\n",
    "    \"Данные из таблицы:\\n{}\".format(\n",
    "        [i for i in cursor.fetchall()])\n",
    ")"
   ]
  },
  {
   "cell_type": "code",
   "execution_count": 47,
   "metadata": {},
   "outputs": [
    {
     "name": "stderr",
     "output_type": "stream",
     "text": [
      "2018-08-26 23:12:01,512 : INFO : Данные из таблицы:\n",
      "[(1, 'группа НЯ-1', 'Группа 1 курса факультета \"Необычяйные явления\"'), (2, 'группа НЛО-1', 'Группа 1 курса факультета \"Неопознаных летающих объектов\"')]\n"
     ]
    }
   ],
   "source": [
    "## 1.3 Получить список участников stratum события\n",
    "sql_1_3 = \"\"\"SELECT  s.id, s.name, s.description FROM stratum as s\n",
    "JOIN event_stratum as es\n",
    "ON s.id = es.id_stratum\n",
    "WHERE es.id_event = 1;\"\"\"\n",
    "cursor.execute(sql_1_3)\n",
    "conn.commit()\n",
    "logger.info(\n",
    "    \"Данные из таблицы:\\n{}\".format(\n",
    "        [i for i in cursor.fetchall()])\n",
    ")"
   ]
  },
  {
   "cell_type": "code",
   "execution_count": 48,
   "metadata": {},
   "outputs": [
    {
     "name": "stderr",
     "output_type": "stream",
     "text": [
      "2018-08-26 23:12:11,577 : INFO : Данные из таблицы:\n",
      "[(1, 'Александра', 'Александрова', 'Александровна', 'Sasha@email.ru', 'Sasha', '123456'), (2, 'Василиса', 'Васильева', 'Васильевна', 'Vasilisa@email.ru', 'Vasilisa', '234567'), (3, 'Ольга', 'Олегова', 'Олеговна', 'Olia@email.ru', 'Olia', '345678'), (4, 'Дарья', 'Дариевна', 'Дарьева', 'Dasha@email.ru', 'Dasha', '456789'), (5, 'Юлия', 'Юльева', 'Юлиевна', 'Yulia@email.ru', 'Yulia', '567891'), (6, 'Василий', 'Пупкин', 'Александровна', 'Vasia@email.ru', 'Vasia', '678912'), (7, 'Федор', 'Сумкин', 'Федорович', 'Fiedor@email.ru', 'Fiedor', '789123'), (8, 'Иван', 'Королев', 'Васильевич', 'Ivan_K@email.ru', 'Ivan_K', '891234'), (9, 'Иван', 'Царев', 'Иванович', 'Ivan_C@email.ru', 'Ivan_C', '912345'), (10, 'Джон', 'Доу', 'Джонович', 'John@email.ru', 'John', 'admin')]\n"
     ]
    }
   ],
   "source": [
    "## 1.4 Получить информацию о персонах \n",
    "sql_1_4 = \"\"\"SELECT * FROM person;\"\"\"\n",
    "cursor.execute(sql_1_4)\n",
    "conn.commit()\n",
    "logger.info(\n",
    "    \"Данные из таблицы:\\n{}\".format(\n",
    "        [i for i in cursor.fetchall()])\n",
    ")"
   ]
  },
  {
   "cell_type": "code",
   "execution_count": 49,
   "metadata": {},
   "outputs": [
    {
     "name": "stderr",
     "output_type": "stream",
     "text": [
      "2018-08-26 23:12:14,950 : INFO : Данные из таблицы:\n",
      "[(1, 'Контрольная по математике', datetime.datetime(2018, 8, 27, 12, 0), datetime.datetime(2018, 8, 27, 13, 0), 10, 1)]\n"
     ]
    }
   ],
   "source": [
    "## 1.5 Получить список событий для персоны\n",
    "sql_1_5 = \"\"\"SELECT * FROM event WHERE id in ( \n",
    "  (SELECT e1.id FROM event as e1\n",
    "     JOIN event_person \n",
    "        ON event_person.id_person = 10)\n",
    "   UNION \n",
    "   (SELECT e2.id FROM event as e2\n",
    "      JOIN event_stratum as es\n",
    "          ON es.id_event = e2.id\n",
    "      JOIN person_stratum as ps\n",
    "          ON es.id_stratum = ps.id_stratum\n",
    "      WHERE ps.id_person= 10)\n",
    ");\"\"\"\n",
    "cursor.execute(sql_1_5)\n",
    "conn.commit()\n",
    "logger.info(\n",
    "    \"Данные из таблицы:\\n{}\".format(\n",
    "        [i for i in cursor.fetchall()])\n",
    ")"
   ]
  },
  {
   "cell_type": "code",
   "execution_count": 50,
   "metadata": {},
   "outputs": [
    {
     "name": "stderr",
     "output_type": "stream",
     "text": [
      "2018-08-26 23:12:18,945 : INFO : Данные из таблицы:\n",
      "[(10, 'Джон', 'Доу', 'Джонович', 'John@email.ru', 'John', 'admin', 'answer', 10, 10), (10, 'Джон', 'Доу', 'Джонович', 'John@email.ru', 'John', 'admin', 'question', 10, 5), (10, 'Джон', 'Доу', 'Джонович', 'John@email.ru', 'John', 'admin', 'test', 10, 3), (10, 'Джон', 'Доу', 'Джонович', 'John@email.ru', 'John', 'admin', 'event', 10, 1), (10, 'Джон', 'Доу', 'Джонович', 'John@email.ru', 'John', 'admin', 'stratum', 10, 2)]\n"
     ]
    }
   ],
   "source": [
    "##  1.6 Получить информацию о песонах создающих контент \n",
    "sql_1_6 = \"\"\"SELECT * FROM person \n",
    " JOIN  (\n",
    "   (SELECT 'event' as type ,event.id_creater as id , count(event.id_creater) FROM event GROUP BY event.id_creater )\n",
    "  UNION\n",
    "    (SELECT 'test'as type,  test.id_creater as id  , count(test.id_creater) FROM test GROUP BY test.id_creater)\n",
    "  UNION\n",
    "    (SELECT 'stratum'as type, stratum.id_creater as id  , count(stratum.id_creater) FROM stratum GROUP BY stratum.id_creater )\n",
    "  UNION\n",
    "    (SELECT 'question'as type, question.id_creater as id  , count(question.id_creater) FROM question GROUP BY question.id_creater)\n",
    "  UNION\n",
    "    (SELECT 'answer'as type,answer.id_creater as id  , count(answer.id_creater ) FROM answer GROUP BY answer.id_creater)\n",
    ") as t ON person.id = t.id;\"\"\"\n",
    "cursor.execute(sql_1_6)\n",
    "conn.commit()\n",
    "logger.info(\n",
    "    \"Данные из таблицы:\\n{}\".format(\n",
    "        [i for i in cursor.fetchall()])\n",
    ")"
   ]
  },
  {
   "cell_type": "code",
   "execution_count": 52,
   "metadata": {},
   "outputs": [
    {
     "name": "stderr",
     "output_type": "stream",
     "text": [
      "2018-08-26 23:12:35,848 : INFO : Данные из таблицы:\n",
      "[('answer', '', 'Деляться только на себя и на 1.'), ('answer', '', 'Есть! Я верю!'), ('answer', '', 'x=2*y'), ('answer', '', '5'), ('answer', '', 'Неизвестно. Ведуться исследования.'), ('answer', '', '4'), ('answer', '', 'x=2/y'), ('answer', '', 'Они не существуют'), ('answer', '', 'Они всегда нечетные.'), ('event', '', 'Контрольная по математике'), ('question', '', 'Есть ли жизнь на Марсе'), ('question', '', 'Выберете верно сказанное про простые числа '), ('question', '', 'Чему равно 15/3'), ('question', '', 'Чему равно 2+2'), ('question', '', 'Выражение для x при  y=2/x будет равно? '), ('stratum', '', 'Группа 1 курса факультета \"Неопознаных летающих объектов\"'), ('stratum', '', 'Группа 1 курса факультета \"Необычяйные явления\"'), ('test', '', 'Основы математики'), ('test', '', 'Основы алгебры'), ('test', '', 'Основы арифметики')]\n"
     ]
    }
   ],
   "source": [
    "## 1.7  Получить информацию об объектах созданных персоной\n",
    "sql_1_7 = \"\"\"(SELECT 'event' as type ,'' as name, event.description FROM event WHERE event.id_creater = 10)\n",
    "  UNION\n",
    "    (SELECT 'test' as type ,'' as name, test.description FROM test WHERE test.id_creater = 10)\n",
    "  UNION\n",
    "    (SELECT 'stratum' as type ,'' as name, stratum.description FROM stratum WHERE stratum.id_creater = 10)\n",
    "  UNION\n",
    "    (SELECT 'question' as type ,'' as name, question.text as description FROM question WHERE question.id_creater = 10)\n",
    "  UNION\n",
    "    (SELECT 'answer' as type ,'' as name, answer.text as description FROM answer WHERE answer.id_creater = 10)\n",
    "ORDER BY type;\"\"\"\n",
    "cursor.execute(sql_1_7)\n",
    "conn.commit()\n",
    "logger.info(\n",
    "    \"Данные из таблицы:\\n{}\".format(\n",
    "        [i for i in cursor.fetchall()])\n",
    ")"
   ]
  },
  {
   "cell_type": "code",
   "execution_count": 53,
   "metadata": {},
   "outputs": [
    {
     "name": "stderr",
     "output_type": "stream",
     "text": [
      "2018-08-26 23:12:41,822 : INFO : Данные из таблицы:\n",
      "[(1, 'группа НЯ-1', 'Группа 1 курса факультета \"Необычяйные явления\"', 10, None, 1), (2, 'группа НЛО-1', 'Группа 1 курса факультета \"Неопознаных летающих объектов\"', 10, None, 1)]\n"
     ]
    }
   ],
   "source": [
    "## 1.8 Получит инфрмацию о группах\n",
    "sql_1_8 = \"\"\"SELECT  * FROM stratum;\"\"\"\n",
    "cursor.execute(sql_1_8)\n",
    "conn.commit()\n",
    "logger.info(\n",
    "    \"Данные из таблицы:\\n{}\".format(\n",
    "        [i for i in cursor.fetchall()])\n",
    ")"
   ]
  },
  {
   "cell_type": "code",
   "execution_count": 54,
   "metadata": {},
   "outputs": [
    {
     "name": "stderr",
     "output_type": "stream",
     "text": [
      "2018-08-26 23:12:45,684 : INFO : Данные из таблицы:\n",
      "[(1, 'Александра', 'Александрова', 'Александровна', 'Sasha@email.ru', 'Sasha', '123456', 1, 1, 1), (3, 'Ольга', 'Олегова', 'Олеговна', 'Olia@email.ru', 'Olia', '345678', 1, 3, 1), (5, 'Юлия', 'Юльева', 'Юлиевна', 'Yulia@email.ru', 'Yulia', '567891', 1, 5, 1), (7, 'Федор', 'Сумкин', 'Федорович', 'Fiedor@email.ru', 'Fiedor', '789123', 1, 7, 1), (9, 'Иван', 'Царев', 'Иванович', 'Ivan_C@email.ru', 'Ivan_C', '912345', 1, 9, 1), (10, 'Джон', 'Доу', 'Джонович', 'John@email.ru', 'John', 'admin', 1, 10, 2)]\n"
     ]
    }
   ],
   "source": [
    "##  1.9 Получить список участников группы\n",
    "sql_1_9 = \"\"\"SELECT  * FROM person\n",
    "       JOIN person_stratum as ps\n",
    "            ON ps.id_person = person.id\n",
    "WHERE ps.id_stratum = 1;\"\"\"\n",
    "cursor.execute(sql_1_9)\n",
    "conn.commit()\n",
    "logger.info(\n",
    "    \"Данные из таблицы:\\n{}\".format(\n",
    "        [i for i in cursor.fetchall()])\n",
    ")"
   ]
  },
  {
   "cell_type": "code",
   "execution_count": 55,
   "metadata": {},
   "outputs": [
    {
     "name": "stderr",
     "output_type": "stream",
     "text": [
      "2018-08-26 23:12:50,285 : INFO : Данные из таблицы:\n",
      "[(1, 'Контрольная по математике', datetime.datetime(2018, 8, 27, 12, 0), datetime.datetime(2018, 8, 27, 13, 0), 10, 1, 1, 2, datetime.datetime(2018, 8, 27, 11, 31))]\n"
     ]
    }
   ],
   "source": [
    "## 1.10 Получить список событий для группы\n",
    "sql_1_10 = \"\"\"SELECT * FROM event as e \n",
    "    JOIN event_stratum as es\n",
    "         ON e.id = es.id_event\n",
    "WHERE es.id_stratum = 2;\"\"\"\n",
    "cursor.execute(sql_1_10)\n",
    "conn.commit()\n",
    "logger.info(\n",
    "    \"Данные из таблицы:\\n{}\".format(\n",
    "        [i for i in cursor.fetchall()])\n",
    ")"
   ]
  },
  {
   "cell_type": "code",
   "execution_count": 56,
   "metadata": {},
   "outputs": [
    {
     "name": "stderr",
     "output_type": "stream",
     "text": [
      "2018-08-26 23:12:54,231 : INFO : Данные из таблицы:\n",
      "[(1, 'Математика', 'Основы математики', 50, 70, 90, 10, None, 1, 1)]\n"
     ]
    }
   ],
   "source": [
    "##  1.11 Получить список тестов в событии \n",
    "sql_1_11 = \"\"\"SELECT * FROM test as t\n",
    "    JOIN event_test as et\n",
    "        ON et.id_test = t.id\n",
    "WHERE et.id_event = 1;\"\"\"\n",
    "cursor.execute(sql_1_11)\n",
    "conn.commit()\n",
    "logger.info(\n",
    "    \"Данные из таблицы:\\n{}\".format(\n",
    "        [i for i in cursor.fetchall()])\n",
    ")"
   ]
  },
  {
   "cell_type": "code",
   "execution_count": 57,
   "metadata": {},
   "outputs": [
    {
     "name": "stderr",
     "output_type": "stream",
     "text": [
      "2018-08-26 23:12:58,848 : INFO : Данные из таблицы:\n",
      "[(1, 'Контрольная по математике', 'ожидается начало')]\n"
     ]
    }
   ],
   "source": [
    "##  2.2 вьюшки\n",
    "##  2.1 Получить status прохождения евентов \n",
    "sql_2_1 = \"\"\"\n",
    "CREATE OR REPLACE VIEW status_event as \n",
    "       SELECT event.id, event.description,\n",
    "            CASE WHEN event.finish_date < NOW() THEN  'завершено'\n",
    "                         WHEN event.start_date > NOW() THEN 'ожидается начало'\n",
    "                         ELSE 'в процессе'\n",
    "            END\n",
    "        FROM event;\n",
    "SELECT * FROM status_event;\"\"\"\n",
    "cursor.execute(sql_2_1)\n",
    "conn.commit()\n",
    "logger.info(\n",
    "    \"Данные из таблицы:\\n{}\".format(\n",
    "        [i for i in cursor.fetchall()])\n",
    ")"
   ]
  },
  {
   "cell_type": "code",
   "execution_count": 59,
   "metadata": {},
   "outputs": [
    {
     "name": "stderr",
     "output_type": "stream",
     "text": [
      "2018-08-26 23:13:24,610 : INFO : Данные из таблицы:\n",
      "[(4, 'Дарья', 'приступил'), (10, 'Джон', 'ожидается первый ответ'), (9, 'Иван', 'приступил'), (7, 'Федор', 'приступил'), (6, 'Василий', 'приступил'), (3, 'Ольга', 'приступил'), (1, 'Александра', 'приступил'), (5, 'Юлия', 'приступил'), (2, 'Василиса', 'приступил'), (8, 'Иван', 'приступил')]\n"
     ]
    }
   ],
   "source": [
    "## 2.2 Получить список персон и статус прохождения ими тестов\n",
    "sql_2_2 = \"\"\"\n",
    "CREATE OR REPLACE VIEW status_person_event as \n",
    "SELECT \n",
    "        p.id, \n",
    "        p.first_name , \n",
    "       CASE \n",
    "              WHEN count(rp.id_answer) > 0 THEN 'приступил'\n",
    "              ELSE 'ожидается первый ответ' \n",
    "       END\n",
    "FROM person as p\n",
    "     LEFT JOIN  resault_person as rp \n",
    "          ON  p.id = rp.id_person\n",
    "     JOIN ((SELECT e.id as id_event, ep.id_person\n",
    "           FROM event as e\n",
    "              JOIN event_person as ep\n",
    "                    ON e.id = ep.id_event)\n",
    "          UNION\n",
    "          (SELECT e.id as id_event, ps.id_person \n",
    "           FROM event as e\n",
    "            JOIN event_stratum as es\n",
    "                  ON   e.id = es.id_event\n",
    "             JOIN person_stratum as ps\n",
    "                   ON es.id_stratum=ps.id_stratum)\n",
    "          ) as t\n",
    "    ON t.id_person = p.id\n",
    "    GROUP BY p.id;\n",
    "\n",
    "SELECT * FROM status_person_event;\"\"\"\n",
    "cursor.execute(sql_2_2)\n",
    "conn.commit()\n",
    "logger.info(\n",
    "    \"Данные из таблицы:\\n{}\".format(\n",
    "        [i for i in cursor.fetchall()])\n",
    ")"
   ]
  },
  {
   "cell_type": "code",
   "execution_count": null,
   "metadata": {},
   "outputs": [],
   "source": []
  },
  {
   "cell_type": "code",
   "execution_count": null,
   "metadata": {},
   "outputs": [],
   "source": [
    "## Работа pandas"
   ]
  },
  {
   "cell_type": "code",
   "execution_count": 83,
   "metadata": {},
   "outputs": [],
   "source": [
    "## получаем данные из базы данных\n",
    "\n",
    "sql_event = \"SELECT * FROM event;\"\n",
    "cursor.execute(sql_event)\n",
    "conn.commit()\n",
    "event = [i for i in cursor.fetchall()]\n",
    "\n",
    "sql_test = \"SELECT * FROM test;\"\n",
    "cursor.execute(sql_test)\n",
    "conn.commit()\n",
    "test = [i for i in cursor.fetchall()]\n",
    "\n",
    "sql_person = \"SELECT * FROM person;\"\n",
    "cursor.execute(sql_person)\n",
    "conn.commit()\n",
    "person = [i for i in cursor.fetchall()]\n",
    "\n",
    "sql_question = \"SELECT * FROM question;\"\n",
    "cursor.execute(sql_question)\n",
    "conn.commit()\n",
    "question = [i for i in cursor.fetchall()]\n",
    "\n",
    "sql_answer = \"SELECT * FROM answer;\"\n",
    "cursor.execute(sql_answer)\n",
    "conn.commit()\n",
    "answer = [i for i in cursor.fetchall()]\n",
    "\n",
    "sql_stratum = \"SELECT * FROM stratum;\"\n",
    "cursor.execute(sql_stratum)\n",
    "conn.commit()\n",
    "stratum = [i for i in cursor.fetchall()]\n",
    "\n",
    "sql_resault_person  = \"SELECT * FROM resault_person ;\"\n",
    "cursor.execute(sql_resault_person)\n",
    "conn.commit()\n",
    "resault_person  = [i for i in cursor.fetchall()]\n",
    "\n",
    "sql_event_test  = \"SELECT * FROM event_test ;\"\n",
    "cursor.execute(sql_event_test)\n",
    "conn.commit()\n",
    "event_test = [i for i in cursor.fetchall()]\n",
    "\n",
    "sql_event_person  = \"SELECT * FROM event_person ;\"\n",
    "cursor.execute(sql_event_person)\n",
    "conn.commit()\n",
    "event_person = [i for i in cursor.fetchall()]\n",
    "\n",
    "sql_event_stratum  = \"SELECT * FROM event_stratum ;\"\n",
    "cursor.execute(sql_event_stratum)\n",
    "conn.commit()\n",
    "event_stratum = [i for i in cursor.fetchall()]\n",
    "\n",
    "sql_test_question  = \"SELECT * FROM test_question ;\"\n",
    "cursor.execute(sql_test_question)\n",
    "conn.commit()\n",
    "test_question = [i for i in cursor.fetchall()]\n"
   ]
  },
  {
   "cell_type": "code",
   "execution_count": 86,
   "metadata": {},
   "outputs": [],
   "source": [
    "## переводим в датафрейиы\n",
    "df_event = pd.DataFrame.from_records(event, columns=['id','description', 'start_date', 'finish_date', 'id_creator', 'id_type_event'])\n",
    "df_test = pd.DataFrame.from_records(test, columns=['id','short_name','description', 'pass_level_norm', 'pass_level_good', 'pass_level_pref', 'id_creator', 'ParentId'])\n",
    "df_person = pd.DataFrame.from_records(person, columns=['id','first_name', 'last_name', 'second_name', 'e_mail', 'login','password'])\n",
    "df_question = pd.DataFrame.from_records(question, columns=['id','text', 'id_creator', 'type'])\n",
    "df_answer = pd.DataFrame.from_records(answer, columns=['id','text', 'explanation', 'correct', 'id_creator', 'id_question'])\n",
    "df_stratum = pd.DataFrame.from_records(stratum, columns=['id','name', 'description',  'id_creator','ParentId', ' id_type_stratum'])\n",
    "df_resault_person = pd.DataFrame.from_records(resault_person, columns=['value','data', 'id_event', 'id_answer', 'id_person'])\n",
    "df_event_test = pd.DataFrame.from_records(event_test, columns=['id_event','id_test'])\n",
    "df_event_person = pd.DataFrame.from_records(event_person, columns=['id_event','id_person','connect_date'])\n",
    "df_event_stratum = pd.DataFrame.from_records(event_stratum, columns=['id_event','id_stratum','connect_date'])\n",
    "df_test_question = pd.DataFrame.from_records(test_question, columns=['id_test','id_question'])\n"
   ]
  },
  {
   "cell_type": "code",
   "execution_count": 87,
   "metadata": {},
   "outputs": [],
   "source": [
    "## реализация запроса 1.1\n",
    "\n"
   ]
  },
  {
   "cell_type": "code",
   "execution_count": null,
   "metadata": {},
   "outputs": [],
   "source": []
  },
  {
   "cell_type": "code",
   "execution_count": null,
   "metadata": {},
   "outputs": [],
   "source": []
  },
  {
   "cell_type": "code",
   "execution_count": null,
   "metadata": {},
   "outputs": [],
   "source": []
  },
  {
   "cell_type": "code",
   "execution_count": null,
   "metadata": {},
   "outputs": [],
   "source": []
  },
  {
   "cell_type": "code",
   "execution_count": null,
   "metadata": {},
   "outputs": [],
   "source": []
  },
  {
   "cell_type": "code",
   "execution_count": null,
   "metadata": {},
   "outputs": [],
   "source": []
  }
 ],
 "metadata": {
  "kernelspec": {
   "display_name": "Python 3",
   "language": "python",
   "name": "python3"
  },
  "language_info": {
   "codemirror_mode": {
    "name": "ipython",
    "version": 3
   },
   "file_extension": ".py",
   "mimetype": "text/x-python",
   "name": "python",
   "nbconvert_exporter": "python",
   "pygments_lexer": "ipython3",
   "version": "3.6.5"
  }
 },
 "nbformat": 4,
 "nbformat_minor": 2
}
